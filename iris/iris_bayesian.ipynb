{
 "cells": [
  {
   "cell_type": "markdown",
   "id": "295c734f",
   "metadata": {},
   "source": [
    "<h1>Bayesian Logistic Regression</h1>"
   ]
  },
  {
   "cell_type": "code",
   "execution_count": 1,
   "id": "9a9bd07e",
   "metadata": {},
   "outputs": [],
   "source": [
    "from sklearn.datasets import load_iris\n",
    "iris = load_iris()"
   ]
  },
  {
   "cell_type": "markdown",
   "id": "00adfd08",
   "metadata": {},
   "source": [
    "<h1>Setup Prior</h1>"
   ]
  },
  {
   "cell_type": "code",
   "execution_count": null,
   "id": "6ff9b8c3",
   "metadata": {},
   "outputs": [],
   "source": []
  }
 ],
 "metadata": {
  "kernelspec": {
   "display_name": "machine_learning",
   "language": "python",
   "name": "python3"
  },
  "language_info": {
   "codemirror_mode": {
    "name": "ipython",
    "version": 3
   },
   "file_extension": ".py",
   "mimetype": "text/x-python",
   "name": "python",
   "nbconvert_exporter": "python",
   "pygments_lexer": "ipython3",
   "version": "3.12.11"
  }
 },
 "nbformat": 4,
 "nbformat_minor": 5
}
